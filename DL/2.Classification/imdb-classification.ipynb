{
 "cells": [
  {
   "cell_type": "code",
   "execution_count": 1,
   "id": "e5747102",
   "metadata": {},
   "outputs": [
    {
     "name": "stdout",
     "output_type": "stream",
     "text": [
      "WARNING:tensorflow:From c:\\Users\\mohit\\AppData\\Local\\Programs\\Python\\Python311\\Lib\\site-packages\\keras\\src\\losses.py:2976: The name tf.losses.sparse_softmax_cross_entropy is deprecated. Please use tf.compat.v1.losses.sparse_softmax_cross_entropy instead.\n",
      "\n"
     ]
    }
   ],
   "source": [
    "import tensorflow as tf\n",
    "from tensorflow.keras.datasets import imdb\n",
    "from tensorflow.keras.preprocessing.sequence import pad_sequences\n",
    "from tensorflow.keras.models import Sequential\n",
    "from tensorflow.keras.layers import Embedding, GlobalAveragePooling1D, Dense"
   ]
  },
  {
   "cell_type": "code",
   "execution_count": 2,
   "id": "f599e701",
   "metadata": {},
   "outputs": [
    {
     "name": "stdout",
     "output_type": "stream",
     "text": [
      "Downloading data from https://storage.googleapis.com/tensorflow/tf-keras-datasets/imdb.npz\n",
      "17464789/17464789 [==============================] - 4s 0us/step\n"
     ]
    }
   ],
   "source": [
    "# 1. Load IMDB dataset (only keep top 10,000 most frequent words)\n",
    "vocab_size = 10000\n",
    "maxlen = 256\n",
    "\n",
    "(x_train, y_train), (x_test, y_test) = imdb.load_data(num_words=vocab_size)\n",
    "\n",
    "# 2. Pad sequences to ensure uniform input size\n",
    "x_train = pad_sequences(x_train, maxlen=maxlen)\n",
    "x_test = pad_sequences(x_test, maxlen=maxlen)\n"
   ]
  },
  {
   "cell_type": "code",
   "execution_count": 3,
   "id": "22bec299",
   "metadata": {},
   "outputs": [
    {
     "name": "stdout",
     "output_type": "stream",
     "text": [
      "Number of training samples: 25000\n",
      "Number of test samples: 25000\n"
     ]
    }
   ],
   "source": [
    "# Show dataset details\n",
    "print(f\"Number of training samples: {len(x_train)}\")\n",
    "print(f\"Number of test samples: {len(x_test)}\")\n"
   ]
  },
  {
   "cell_type": "code",
   "execution_count": 4,
   "id": "1093b8e8",
   "metadata": {},
   "outputs": [
    {
     "name": "stdout",
     "output_type": "stream",
     "text": [
      "[   0    0    0    0    0    0    0    0    0    0    0    0    0    0\n",
      "    0    0    0    0    0    0    0    0    0    0    0    0    0    0\n",
      "    0    0    0    0    0    0    0    0    0    0    1   14   22   16\n",
      "   43  530  973 1622 1385   65  458 4468   66 3941    4  173   36  256\n",
      "    5   25  100   43  838  112   50  670    2    9   35  480  284    5\n",
      "  150    4  172  112  167    2  336  385   39    4  172 4536 1111   17\n",
      "  546   38   13  447    4  192   50   16    6  147 2025   19   14   22\n",
      "    4 1920 4613  469    4   22   71   87   12   16   43  530   38   76\n",
      "   15   13 1247    4   22   17  515   17   12   16  626   18    2    5\n",
      "   62  386   12    8  316    8  106    5    4 2223 5244   16  480   66\n",
      " 3785   33    4  130   12   16   38  619    5   25  124   51   36  135\n",
      "   48   25 1415   33    6   22   12  215   28   77   52    5   14  407\n",
      "   16   82    2    8    4  107  117 5952   15  256    4    2    7 3766\n",
      "    5  723   36   71   43  530  476   26  400  317   46    7    4    2\n",
      " 1029   13  104   88    4  381   15  297   98   32 2071   56   26  141\n",
      "    6  194 7486   18    4  226   22   21  134  476   26  480    5  144\n",
      "   30 5535   18   51   36   28  224   92   25  104    4  226   65   16\n",
      "   38 1334   88   12   16  283    5   16 4472  113  103   32   15   16\n",
      " 5345   19  178   32]\n"
     ]
    }
   ],
   "source": [
    "print(x_train[0])"
   ]
  },
  {
   "cell_type": "code",
   "execution_count": 31,
   "id": "e076352c",
   "metadata": {},
   "outputs": [
    {
     "name": "stdout",
     "output_type": "stream",
     "text": [
      "Label: 1\n"
     ]
    }
   ],
   "source": [
    "print(f\"Label: {y_train[0]}\")"
   ]
  },
  {
   "cell_type": "code",
   "execution_count": 6,
   "id": "998d392e",
   "metadata": {},
   "outputs": [
    {
     "name": "stdout",
     "output_type": "stream",
     "text": [
      "Downloading data from https://storage.googleapis.com/tensorflow/tf-keras-datasets/imdb_word_index.json\n",
      "1641221/1641221 [==============================] - 0s 0us/step\n",
      "\n",
      "Decoded review:\n",
      "<PAD> <PAD> <PAD> <PAD> <PAD> <PAD> <PAD> <PAD> <PAD> <PAD> <PAD> <PAD> <PAD> <PAD> <PAD> <PAD> <PAD> <PAD> <PAD> <PAD> <PAD> <PAD> <PAD> <PAD> <PAD> <PAD> <PAD> <PAD> <PAD> <PAD> <PAD> <PAD> <PAD> <PAD> <PAD> <PAD> <PAD> <PAD> <START> this film was just brilliant casting location scenery story direction everyone's really suited the part they played and you could just imagine being there robert <UNK> is an amazing actor and now the same being director <UNK> father came from the same scottish island as myself so i loved the fact there was a real connection with this film the witty remarks throughout the film were great it was just brilliant so much that i bought the film as soon as it was released for <UNK> and would recommend it to everyone to watch and the fly fishing was amazing really cried at the end it was so sad and you know what they say if you cry at a film it must have been good and this definitely was also <UNK> to the two little boy's that played the <UNK> of norman and paul they were just brilliant children are often left out of the <UNK> list i think because the stars that play them all grown up are such a big profile for the whole film but these children are amazing and should be praised for what they have done don't you think the whole story was so lovely because it was true and was someone's life after all that was shared with us all\n"
     ]
    }
   ],
   "source": [
    "# Decode review using word index   (Completely optional, rather for understanding the data, straightaway ignore this cell if you want)\n",
    "word_index = imdb.get_word_index()\n",
    "reverse_word_index = {value + 3: key for key, value in word_index.items()}\n",
    "reverse_word_index[0] = '<PAD>'\n",
    "reverse_word_index[1] = '<START>'\n",
    "reverse_word_index[2] = '<UNK>'\n",
    "reverse_word_index[3] = '<UNUSED>'\n",
    "\n",
    "def decode_review(encoded_review):\n",
    "    return ' '.join([reverse_word_index.get(i, '?') for i in encoded_review])\n",
    "\n",
    "print(\"\\nDecoded review:\")\n",
    "print(decode_review(x_train[0]))"
   ]
  },
  {
   "cell_type": "code",
   "execution_count": 29,
   "id": "00955330",
   "metadata": {},
   "outputs": [
    {
     "data": {
      "text/plain": [
       "\"? ? ? ? ? ? ? ? ? ? ? ? ? ? ? ? ? ? ? ? ? ? ? ? ? ? ? ? ? ? ? ? ? ? ? ? ? ? ? ? ? ? ? ? ? ? ? ? ? ? ? ? ? ? ? ? ? ? ? ? ? ? ? ? ? ? ? ? big hair big boobs bad music and a giant safety pin these are the words to best describe this terrible movie i love cheesy horror movies and i've seen hundreds but this had got to be on of the worst ever made the plot is paper thin and ridiculous the acting is an abomination the script is completely laughable the best is the end showdown with the cop and how he worked out who the killer is it's just so damn terribly written the clothes are sickening and funny in equal ? the hair is big lots of boobs ? men wear those cut ? shirts that show off their ? sickening that men actually wore them and the music is just ? trash that plays over and over again in almost every scene there is trashy music boobs and ? taking away bodies and the gym still doesn't close for ? all joking aside this is a truly bad film whose only charm is to look back on the disaster that was the 80's and have a good old laugh at how bad everything was back then\""
      ]
     },
     "execution_count": 29,
     "metadata": {},
     "output_type": "execute_result"
    }
   ],
   "source": [
    "# Let's quickly decode a review\n",
    "\n",
    "# step 1: load the dictionary mappings from word to integer index\n",
    "word_index = imdb.get_word_index()\n",
    "\n",
    "# step 2: reverse word index to map integer indexes to their respective words\n",
    "reverse_word_index = dict([(value, key) for (key, value) in word_index.items()])\n",
    "\n",
    "# Step 3: decode the review, mapping integer indices to words\n",
    "#\n",
    "# indices are off by 3 because 0, 1, and 2 are reserverd indices for \"padding\", \"Start of sequence\" and \"unknown\"\n",
    "decoded_review = ' '.join([reverse_word_index.get(i-3, '?') for i in x_train[1]])\n",
    "\n",
    "decoded_review"
   ]
  },
  {
   "cell_type": "code",
   "execution_count": 12,
   "id": "ff027592",
   "metadata": {},
   "outputs": [],
   "source": [
    "# 3. Build the model\n",
    "model = Sequential([\n",
    "    Embedding(input_dim=vocab_size, output_dim=16, input_length=maxlen),\n",
    "    GlobalAveragePooling1D(),\n",
    "    Dense(16, activation='relu'),\n",
    "    Dense(1, activation='sigmoid')\n",
    "])"
   ]
  },
  {
   "cell_type": "code",
   "execution_count": 13,
   "id": "12ce1f2f",
   "metadata": {},
   "outputs": [],
   "source": [
    "# 4. Compile the model\n",
    "model.compile(optimizer='adam',\n",
    "              loss='binary_crossentropy',\n",
    "              metrics=['accuracy'])"
   ]
  },
  {
   "cell_type": "code",
   "execution_count": 14,
   "id": "56369c9a",
   "metadata": {},
   "outputs": [
    {
     "name": "stdout",
     "output_type": "stream",
     "text": [
      "Epoch 1/25\n",
      "40/40 - 1s - loss: 0.6920 - accuracy: 0.5326 - val_loss: 0.6896 - val_accuracy: 0.7524 - 1s/epoch - 29ms/step\n",
      "Epoch 2/25\n",
      "40/40 - 0s - loss: 0.6856 - accuracy: 0.7301 - val_loss: 0.6791 - val_accuracy: 0.7466 - 395ms/epoch - 10ms/step\n",
      "Epoch 3/25\n",
      "40/40 - 0s - loss: 0.6698 - accuracy: 0.7419 - val_loss: 0.6557 - val_accuracy: 0.7764 - 425ms/epoch - 11ms/step\n",
      "Epoch 4/25\n",
      "40/40 - 0s - loss: 0.6374 - accuracy: 0.7962 - val_loss: 0.6148 - val_accuracy: 0.7920 - 398ms/epoch - 10ms/step\n",
      "Epoch 5/25\n",
      "40/40 - 0s - loss: 0.5879 - accuracy: 0.8128 - val_loss: 0.5608 - val_accuracy: 0.8108 - 421ms/epoch - 11ms/step\n",
      "Epoch 6/25\n",
      "40/40 - 0s - loss: 0.5273 - accuracy: 0.8367 - val_loss: 0.5032 - val_accuracy: 0.8246 - 389ms/epoch - 10ms/step\n",
      "Epoch 7/25\n",
      "40/40 - 0s - loss: 0.4656 - accuracy: 0.8560 - val_loss: 0.4505 - val_accuracy: 0.8458 - 378ms/epoch - 9ms/step\n",
      "Epoch 8/25\n",
      "40/40 - 0s - loss: 0.4109 - accuracy: 0.8697 - val_loss: 0.4087 - val_accuracy: 0.8558 - 366ms/epoch - 9ms/step\n",
      "Epoch 9/25\n",
      "40/40 - 0s - loss: 0.3671 - accuracy: 0.8799 - val_loss: 0.3768 - val_accuracy: 0.8628 - 355ms/epoch - 9ms/step\n",
      "Epoch 10/25\n",
      "40/40 - 0s - loss: 0.3326 - accuracy: 0.8885 - val_loss: 0.3538 - val_accuracy: 0.8670 - 370ms/epoch - 9ms/step\n",
      "Epoch 11/25\n",
      "40/40 - 0s - loss: 0.3058 - accuracy: 0.8959 - val_loss: 0.3372 - val_accuracy: 0.8710 - 357ms/epoch - 9ms/step\n",
      "Epoch 12/25\n",
      "40/40 - 0s - loss: 0.2843 - accuracy: 0.9014 - val_loss: 0.3232 - val_accuracy: 0.8754 - 360ms/epoch - 9ms/step\n",
      "Epoch 13/25\n",
      "40/40 - 0s - loss: 0.2661 - accuracy: 0.9071 - val_loss: 0.3138 - val_accuracy: 0.8772 - 362ms/epoch - 9ms/step\n",
      "Epoch 14/25\n",
      "40/40 - 0s - loss: 0.2507 - accuracy: 0.9112 - val_loss: 0.3055 - val_accuracy: 0.8798 - 363ms/epoch - 9ms/step\n",
      "Epoch 15/25\n",
      "40/40 - 0s - loss: 0.2373 - accuracy: 0.9162 - val_loss: 0.2995 - val_accuracy: 0.8806 - 356ms/epoch - 9ms/step\n",
      "Epoch 16/25\n",
      "40/40 - 0s - loss: 0.2254 - accuracy: 0.9205 - val_loss: 0.2941 - val_accuracy: 0.8840 - 381ms/epoch - 10ms/step\n",
      "Epoch 17/25\n",
      "40/40 - 0s - loss: 0.2146 - accuracy: 0.9237 - val_loss: 0.2912 - val_accuracy: 0.8836 - 387ms/epoch - 10ms/step\n",
      "Epoch 18/25\n",
      "40/40 - 0s - loss: 0.2053 - accuracy: 0.9272 - val_loss: 0.2875 - val_accuracy: 0.8860 - 366ms/epoch - 9ms/step\n",
      "Epoch 19/25\n",
      "40/40 - 0s - loss: 0.1957 - accuracy: 0.9312 - val_loss: 0.2866 - val_accuracy: 0.8846 - 374ms/epoch - 9ms/step\n",
      "Epoch 20/25\n",
      "40/40 - 0s - loss: 0.1883 - accuracy: 0.9341 - val_loss: 0.2833 - val_accuracy: 0.8882 - 371ms/epoch - 9ms/step\n",
      "Epoch 21/25\n",
      "40/40 - 0s - loss: 0.1800 - accuracy: 0.9383 - val_loss: 0.2828 - val_accuracy: 0.8890 - 373ms/epoch - 9ms/step\n",
      "Epoch 22/25\n",
      "40/40 - 0s - loss: 0.1722 - accuracy: 0.9410 - val_loss: 0.2825 - val_accuracy: 0.8874 - 376ms/epoch - 9ms/step\n",
      "Epoch 23/25\n",
      "40/40 - 0s - loss: 0.1657 - accuracy: 0.9420 - val_loss: 0.2827 - val_accuracy: 0.8910 - 392ms/epoch - 10ms/step\n",
      "Epoch 24/25\n",
      "40/40 - 0s - loss: 0.1608 - accuracy: 0.9452 - val_loss: 0.2824 - val_accuracy: 0.8902 - 376ms/epoch - 9ms/step\n",
      "Epoch 25/25\n",
      "40/40 - 0s - loss: 0.1532 - accuracy: 0.9483 - val_loss: 0.2832 - val_accuracy: 0.8914 - 384ms/epoch - 10ms/step\n"
     ]
    }
   ],
   "source": [
    "# 5. Train the model\n",
    "history = model.fit(\n",
    "    x_train, y_train,\n",
    "    epochs=25,\n",
    "    batch_size=512,\n",
    "    validation_split=0.2,\n",
    "    verbose=2\n",
    ")"
   ]
  },
  {
   "cell_type": "code",
   "execution_count": 15,
   "id": "9b140c93",
   "metadata": {},
   "outputs": [
    {
     "name": "stdout",
     "output_type": "stream",
     "text": [
      "782/782 [==============================] - 1s 808us/step - loss: 0.2954 - accuracy: 0.8802\n",
      "\n",
      "Test Accuracy: 0.8802\n"
     ]
    }
   ],
   "source": [
    "# 6. Evaluate on test set\n",
    "loss, accuracy = model.evaluate(x_test, y_test)\n",
    "print(f\"\\nTest Accuracy: {accuracy:.4f}\")"
   ]
  },
  {
   "cell_type": "code",
   "execution_count": 16,
   "id": "e216b9c1",
   "metadata": {},
   "outputs": [
    {
     "data": {
      "text/plain": [
       "[<matplotlib.lines.Line2D at 0x1b89ad35cd0>]"
      ]
     },
     "execution_count": 16,
     "metadata": {},
     "output_type": "execute_result"
    },
    {
     "data": {
      "image/png": "[encoded data removed]",
      "text/plain": [
       "<Figure size 640x480 with 1 Axes>"
      ]
     },
     "metadata": {},
     "output_type": "display_data"
    }
   ],
   "source": [
    "# plot training history\n",
    "import matplotlib.pyplot as plt \n",
    "\n",
    "plt.plot(history.history['loss'], label='train loss')  \n",
    "plt.plot(history.history['val_loss'], label='validation loss')"
   ]
  },
  {
   "cell_type": "code",
   "execution_count": 26,
   "id": "086373ea",
   "metadata": {},
   "outputs": [
    {
     "name": "stdout",
     "output_type": "stream",
     "text": [
      "782/782 [==============================] - 1s 750us/step\n",
      "              precision    recall  f1-score   support\n",
      "\n",
      "    Negative       0.88      0.88      0.88     12500\n",
      "    Positive       0.88      0.88      0.88     12500\n",
      "\n",
      "    accuracy                           0.88     25000\n",
      "   macro avg       0.88      0.88      0.88     25000\n",
      "weighted avg       0.88      0.88      0.88     25000\n",
      "\n"
     ]
    }
   ],
   "source": [
    "# classification report\n",
    "from sklearn.metrics import classification_report, confusion_matrix\n",
    "import numpy as np\n",
    "\n",
    "y_pred = model.predict(x_test)\n",
    "y_pred = np.where(y_pred > 0.5, 1, 0).flatten()\n",
    "print(classification_report(y_test, y_pred, target_names=['Negative', 'Positive']))"
   ]
  },
  {
   "cell_type": "code",
   "execution_count": null,
   "id": "8fc06761",
   "metadata": {},
   "outputs": [],
   "source": []
  }
 ],
 "metadata": {
  "kernelspec": {
   "display_name": "Python 3",
   "language": "python",
   "name": "python3"
  },
  "language_info": {
   "codemirror_mode": {
    "name": "ipython",
    "version": 3
   },
   "file_extension": ".py",
   "mimetype": "text/x-python",
   "name": "python",
   "nbconvert_exporter": "python",
   "pygments_lexer": "ipython3",
   "version": "3.11.3"
  }
 },
 "nbformat": 4,
 "nbformat_minor": 5
}
